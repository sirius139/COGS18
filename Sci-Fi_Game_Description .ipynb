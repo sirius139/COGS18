{
 "cells": [
  {
   "cell_type": "markdown",
   "id": "0d549da4",
   "metadata": {},
   "source": [
    "# Project Description\n",
    "\n",
    "PYTHON TEXT-BASED SCI-FI GAME\n",
    "\n",
    "I am a huge Sci-fi game fan, and I always wanted to develop my own mini-game. For this project, I am inspired by the game \"Red String Club\" to design a text-based Python game in which the player has to decode ciphers to find out the truth of the story. This project is developed further from Assignment 2 Encryption (A2). I included three new commonly used ciphers in the real world: Morse Code, Narcissistic Number, and Caesar Cipher. The game will provide a short context for the player to understand the world setting and context, and they will be asked to decode the message that contains information from the outside world. If they fail to decode it, they will have to stay in the \"coded\" world instead of reality.\n",
    "\n",
    "GAME PLAY\n",
    "\n",
    "At the beginning of the game, the game provides the story setting that \"You,\" the player, feel like this world is not real, and you received a coded message from someone that can help you get out of this unreal reality. You have to decode the message based on the cipher rule. The game takes player input and checks if they are the same as the correct answer. If the answer is correct, the story continues and moves on to the next challenge. If the answer is incorrect, they will be given two more chances and some hints to solve it. Each time the hint will be different. The third hint is more explicit. After three attempts, if the player still unsuccessfully decoded it, the game ends, and the player has the choice to restart the game.\n",
    "\n",
    "  Morse Code Cipher Mechanism:\n",
    "  \n",
    "    For this Cipher, the translater function takes in the player input of the alphabet and translates it into \n",
    "    Morse Code format by searching the corresponding Morse code for the alphabet in the dictionary. The reason\n",
    "    for this function is that I can use this function in the hint function to check which part the player gets wrong and generate hints to tell them.\n",
    "\n",
    "  Narcissistic Number:\n",
    "  \n",
    "    The player needs to come up with a 4-digit number that equals the sum of every digit to the 4th power. For \n",
    "    this one, I check the length of the number first to make sure it's a 4-digit and check the sum.\n",
    "\n",
    "  Caesar Cipher: \n",
    "  \n",
    "    This has a similar mechanism as the Morse Code Cipher. It finds the corresponding letter with the alphabet \n",
    "    the player put in.\n",
    "    \n",
    "  Restart / EndGame: \n",
    "  \n",
    "    If the player failed to decode it after three attempts, the game ends and provide player the option to \n",
    "    restart the game. \n",
    "  "
   ]
  },
  {
   "cell_type": "code",
   "execution_count": 9,
   "id": "28f9686a",
   "metadata": {},
   "outputs": [
    {
     "ename": "LoadError",
     "evalue": "ArgumentError: Package importlib not found in current path:\n- Run `import Pkg; Pkg.add(\"importlib\")` to install the importlib package.\n",
     "output_type": "error",
     "traceback": [
      "ArgumentError: Package importlib not found in current path:\n- Run `import Pkg; Pkg.add(\"importlib\")` to install the importlib package.\n",
      "",
      "Stacktrace:",
      " [1] require(into::Module, mod::Symbol)",
      "   @ Base ./loading.jl:871",
      " [2] eval",
      "   @ ./boot.jl:360 [inlined]",
      " [3] include_string(mapexpr::typeof(REPL.softscope), mod::Module, code::String, filename::String)",
      "   @ Base ./loading.jl:1094"
     ]
    }
   ],
   "source": [
    "# import the module here to play the game\n",
    "from SciFi_TextGame import main\n",
    "#main function contains all the text and the method. \n",
    "\n"
   ]
  },
  {
   "cell_type": "code",
   "execution_count": 6,
   "id": "d2dad2be",
   "metadata": {},
   "outputs": [
    {
     "ename": "LoadError",
     "evalue": "UndefVarError: main not defined",
     "output_type": "error",
     "traceback": [
      "UndefVarError: main not defined",
      "",
      "Stacktrace:",
      " [1] top-level scope",
      "   @ In[6]:1",
      " [2] eval",
      "   @ ./boot.jl:360 [inlined]",
      " [3] include_string(mapexpr::typeof(REPL.softscope), mod::Module, code::String, filename::String)",
      "   @ Base ./loading.jl:1094"
     ]
    }
   ],
   "source": [
    "main() #play the game "
   ]
  },
  {
   "cell_type": "markdown",
   "id": "30d78828",
   "metadata": {},
   "source": [
    "Extra Credit: \n",
    "\n",
    "    1.I don't have a background in python at all. I am taking CSE11 Intro to Java at the same time this quarter so I always confused on the syntax of java and also python. \n",
    "    2.I also have never done mini-game before. While playing the game myself, I realized that there were a lot of run time error that I would never be able to find out unless I play it. I also realized that there were some logic error and I struggle to figure out what caused it. It was really hard for me espcially testing out all the possible hint.  \n",
    "    3.Even though the coding part for me is super hard, but it was such a fun project to do because I always wanted to do game on my own and I love sci-fi topic a lot. "
   ]
  },
  {
   "cell_type": "code",
   "execution_count": null,
   "id": "0ce3c093",
   "metadata": {},
   "outputs": [],
   "source": []
  },
  {
   "cell_type": "raw",
   "id": "3ba3115b",
   "metadata": {},
   "source": []
  }
 ],
 "metadata": {
  "kernelspec": {
   "display_name": "Julia 1.6.1",
   "language": "julia",
   "name": "julia-1.6"
  },
  "language_info": {
   "file_extension": ".jl",
   "mimetype": "application/julia",
   "name": "julia",
   "version": "1.6.1"
  }
 },
 "nbformat": 4,
 "nbformat_minor": 5
}
